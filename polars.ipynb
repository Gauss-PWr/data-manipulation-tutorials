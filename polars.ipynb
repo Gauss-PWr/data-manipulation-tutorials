{
 "cells": [
  {
   "cell_type": "markdown",
   "metadata": {},
   "source": [
    "# Polars"
   ]
  },
  {
   "cell_type": "code",
   "execution_count": 2,
   "metadata": {
    "tags": []
   },
   "outputs": [],
   "source": [
    "import polars as pl\n",
    "import pandas as pd\n",
    "import numpy as np\n",
    "\n",
    "pl.Config.set_tbl_rows(5)\n",
    "pd.options.display.max_rows = 5"
   ]
  },
  {
   "cell_type": "markdown",
   "metadata": {},
   "source": [
    "## A little bit about Rust"
   ]
  },
  {
   "cell_type": "code",
   "execution_count": null,
   "metadata": {},
   "outputs": [],
   "source": []
  },
  {
   "cell_type": "markdown",
   "metadata": {},
   "source": [
    "## Available data structures"
   ]
  },
  {
   "cell_type": "markdown",
   "metadata": {},
   "source": [
    "#### Series"
   ]
  },
  {
   "cell_type": "code",
   "execution_count": 25,
   "metadata": {},
   "outputs": [
    {
     "data": {
      "text/html": [
       "<div><style>\n",
       ".dataframe > thead > tr > th,\n",
       ".dataframe > tbody > tr > td {\n",
       "  text-align: right;\n",
       "  white-space: pre-wrap;\n",
       "}\n",
       "</style>\n",
       "<small>shape: (5,)</small><table border=\"1\" class=\"dataframe\"><thead><tr><th></th></tr><tr><td>f64</td></tr></thead><tbody><tr><td>1.0</td></tr><tr><td>2.0</td></tr><tr><td>3.0</td></tr><tr><td>4.0</td></tr><tr><td>5.5</td></tr></tbody></table></div>"
      ],
      "text/plain": [
       "shape: (5,)\n",
       "Series: '' [f64]\n",
       "[\n",
       "\t1.0\n",
       "\t2.0\n",
       "\t3.0\n",
       "\t4.0\n",
       "\t5.5\n",
       "]"
      ]
     },
     "execution_count": 25,
     "metadata": {},
     "output_type": "execute_result"
    }
   ],
   "source": [
    "pl.Series([1, 2, 3, 4, 5.5])"
   ]
  },
  {
   "cell_type": "markdown",
   "metadata": {},
   "source": [
    "#### DataFrames"
   ]
  },
  {
   "cell_type": "code",
   "execution_count": 26,
   "metadata": {},
   "outputs": [
    {
     "data": {
      "text/html": [
       "<div><style>\n",
       ".dataframe > thead > tr > th,\n",
       ".dataframe > tbody > tr > td {\n",
       "  text-align: right;\n",
       "  white-space: pre-wrap;\n",
       "}\n",
       "</style>\n",
       "<small>shape: (3, 2)</small><table border=\"1\" class=\"dataframe\"><thead><tr><th>a</th><th>b</th></tr><tr><td>i64</td><td>i64</td></tr></thead><tbody><tr><td>1</td><td>4</td></tr><tr><td>2</td><td>5</td></tr><tr><td>3</td><td>6</td></tr></tbody></table></div>"
      ],
      "text/plain": [
       "shape: (3, 2)\n",
       "┌─────┬─────┐\n",
       "│ a   ┆ b   │\n",
       "│ --- ┆ --- │\n",
       "│ i64 ┆ i64 │\n",
       "╞═════╪═════╡\n",
       "│ 1   ┆ 4   │\n",
       "│ 2   ┆ 5   │\n",
       "│ 3   ┆ 6   │\n",
       "└─────┴─────┘"
      ]
     },
     "execution_count": 26,
     "metadata": {},
     "output_type": "execute_result"
    }
   ],
   "source": [
    "pl.DataFrame({\"a\": [1, 2, 3], \"b\": [4, 5, 6]})"
   ]
  },
  {
   "cell_type": "code",
   "execution_count": 27,
   "metadata": {},
   "outputs": [
    {
     "data": {
      "text/html": [
       "<div>\n",
       "<style scoped>\n",
       "    .dataframe tbody tr th:only-of-type {\n",
       "        vertical-align: middle;\n",
       "    }\n",
       "\n",
       "    .dataframe tbody tr th {\n",
       "        vertical-align: top;\n",
       "    }\n",
       "\n",
       "    .dataframe thead th {\n",
       "        text-align: right;\n",
       "    }\n",
       "</style>\n",
       "<table border=\"1\" class=\"dataframe\">\n",
       "  <thead>\n",
       "    <tr style=\"text-align: right;\">\n",
       "      <th></th>\n",
       "      <th>0</th>\n",
       "      <th>1</th>\n",
       "      <th>2</th>\n",
       "    </tr>\n",
       "  </thead>\n",
       "  <tbody>\n",
       "    <tr>\n",
       "      <th>0</th>\n",
       "      <td>1</td>\n",
       "      <td>2</td>\n",
       "      <td>3</td>\n",
       "    </tr>\n",
       "    <tr>\n",
       "      <th>1</th>\n",
       "      <td>aa</td>\n",
       "      <td>b</td>\n",
       "      <td>c</td>\n",
       "    </tr>\n",
       "  </tbody>\n",
       "</table>\n",
       "</div>"
      ],
      "text/plain": [
       "    0  1  2\n",
       "0   1  2  3\n",
       "1  aa  b  c"
      ]
     },
     "execution_count": 27,
     "metadata": {},
     "output_type": "execute_result"
    }
   ],
   "source": [
    "pd.DataFrame([[1, 2, 3], [\"aa\", \"b\", \"c\"]])"
   ]
  },
  {
   "cell_type": "code",
   "execution_count": 28,
   "metadata": {},
   "outputs": [
    {
     "data": {
      "text/html": [
       "<div><style>\n",
       ".dataframe > thead > tr > th,\n",
       ".dataframe > tbody > tr > td {\n",
       "  text-align: right;\n",
       "  white-space: pre-wrap;\n",
       "}\n",
       "</style>\n",
       "<small>shape: (3, 2)</small><table border=\"1\" class=\"dataframe\"><thead><tr><th>column_0</th><th>column_1</th></tr><tr><td>i64</td><td>str</td></tr></thead><tbody><tr><td>1</td><td>&quot;aa&quot;</td></tr><tr><td>2</td><td>&quot;b&quot;</td></tr><tr><td>3</td><td>&quot;c&quot;</td></tr></tbody></table></div>"
      ],
      "text/plain": [
       "shape: (3, 2)\n",
       "┌──────────┬──────────┐\n",
       "│ column_0 ┆ column_1 │\n",
       "│ ---      ┆ ---      │\n",
       "│ i64      ┆ str      │\n",
       "╞══════════╪══════════╡\n",
       "│ 1        ┆ aa       │\n",
       "│ 2        ┆ b        │\n",
       "│ 3        ┆ c        │\n",
       "└──────────┴──────────┘"
      ]
     },
     "execution_count": 28,
     "metadata": {},
     "output_type": "execute_result"
    }
   ],
   "source": [
    "pl.DataFrame([[1, 2, 3], [\"aa\", \"b\", \"c\"]])"
   ]
  },
  {
   "cell_type": "markdown",
   "metadata": {},
   "source": [
    "## Reading data and first touch"
   ]
  },
  {
   "cell_type": "code",
   "execution_count": 7,
   "metadata": {
    "tags": []
   },
   "outputs": [],
   "source": [
    "cars_pd = pd.read_csv(\"data/Electric_Vehicle_Population_Data.csv\")\n",
    "cars_pl = pl.read_csv(\"data/Electric_Vehicle_Population_Data.csv\")"
   ]
  },
  {
   "cell_type": "code",
   "execution_count": 8,
   "metadata": {
    "tags": []
   },
   "outputs": [
    {
     "data": {
      "text/html": [
       "<div><style>\n",
       ".dataframe > thead > tr > th,\n",
       ".dataframe > tbody > tr > td {\n",
       "  text-align: right;\n",
       "  white-space: pre-wrap;\n",
       "}\n",
       "</style>\n",
       "<small>shape: (153_830, 17)</small><table border=\"1\" class=\"dataframe\"><thead><tr><th>VIN (1-10)</th><th>County</th><th>City</th><th>State</th><th>Postal Code</th><th>Model Year</th><th>Make</th><th>Model</th><th>Electric Vehicle Type</th><th>Clean Alternative Fuel Vehicle (CAFV) Eligibility</th><th>Electric Range</th><th>Base MSRP</th><th>Legislative District</th><th>DOL Vehicle ID</th><th>Vehicle Location</th><th>Electric Utility</th><th>2020 Census Tract</th></tr><tr><td>str</td><td>str</td><td>str</td><td>str</td><td>i64</td><td>i64</td><td>str</td><td>str</td><td>str</td><td>str</td><td>i64</td><td>i64</td><td>i64</td><td>i64</td><td>str</td><td>str</td><td>i64</td></tr></thead><tbody><tr><td>&quot;5UXTA6C05P&quot;</td><td>&quot;Yakima&quot;</td><td>&quot;Yakima&quot;</td><td>&quot;WA&quot;</td><td>98903</td><td>2023</td><td>&quot;BMW&quot;</td><td>&quot;X5&quot;</td><td>&quot;Plug-in Hybrid…</td><td>&quot;Clean Alternat…</td><td>30</td><td>0</td><td>14</td><td>227153587</td><td>&quot;POINT (-120.47…</td><td>&quot;PACIFICORP&quot;</td><td>53077002803</td></tr><tr><td>&quot;5YJRE11B48&quot;</td><td>null</td><td>null</td><td>&quot;BC&quot;</td><td>null</td><td>2008</td><td>&quot;TESLA&quot;</td><td>&quot;ROADSTER&quot;</td><td>&quot;Battery Electr…</td><td>&quot;Clean Alternat…</td><td>220</td><td>98950</td><td>null</td><td>143609049</td><td>null</td><td>null</td><td>null</td></tr><tr><td>&hellip;</td><td>&hellip;</td><td>&hellip;</td><td>&hellip;</td><td>&hellip;</td><td>&hellip;</td><td>&hellip;</td><td>&hellip;</td><td>&hellip;</td><td>&hellip;</td><td>&hellip;</td><td>&hellip;</td><td>&hellip;</td><td>&hellip;</td><td>&hellip;</td><td>&hellip;</td><td>&hellip;</td></tr><tr><td>&quot;3FMTK3SU1M&quot;</td><td>&quot;King&quot;</td><td>&quot;Kent&quot;</td><td>&quot;WA&quot;</td><td>98031</td><td>2021</td><td>&quot;FORD&quot;</td><td>&quot;MUSTANG MACH-E…</td><td>&quot;Battery Electr…</td><td>&quot;Eligibility un…</td><td>0</td><td>0</td><td>33</td><td>186104215</td><td>&quot;POINT (-122.20…</td><td>&quot;PUGET SOUND EN…</td><td>53033029206</td></tr><tr><td>&quot;1N4AZ0CP0D&quot;</td><td>&quot;Pierce&quot;</td><td>&quot;Tacoma&quot;</td><td>&quot;WA&quot;</td><td>98407</td><td>2013</td><td>&quot;NISSAN&quot;</td><td>&quot;LEAF&quot;</td><td>&quot;Battery Electr…</td><td>&quot;Clean Alternat…</td><td>75</td><td>0</td><td>27</td><td>153724504</td><td>&quot;POINT (-122.51…</td><td>&quot;BONNEVILLE POW…</td><td>53053060500</td></tr></tbody></table></div>"
      ],
      "text/plain": [
       "shape: (153_830, 17)\n",
       "┌────────────┬────────┬────────┬───────┬───┬────────────────┬──────────────────────┬─────────────────────┬─────────────┐\n",
       "│ VIN (1-10) ┆ County ┆ City   ┆ State ┆ … ┆ DOL Vehicle ID ┆ Vehicle Location     ┆ Electric Utility    ┆ 2020 Census │\n",
       "│ ---        ┆ ---    ┆ ---    ┆ ---   ┆   ┆ ---            ┆ ---                  ┆ ---                 ┆ Tract       │\n",
       "│ str        ┆ str    ┆ str    ┆ str   ┆   ┆ i64            ┆ str                  ┆ str                 ┆ ---         │\n",
       "│            ┆        ┆        ┆       ┆   ┆                ┆                      ┆                     ┆ i64         │\n",
       "╞════════════╪════════╪════════╪═══════╪═══╪════════════════╪══════════════════════╪═════════════════════╪═════════════╡\n",
       "│ 5UXTA6C05P ┆ Yakima ┆ Yakima ┆ WA    ┆ … ┆ 227153587      ┆ POINT (-120.477805   ┆ PACIFICORP          ┆ 53077002803 │\n",
       "│            ┆        ┆        ┆       ┆   ┆                ┆ 46.553505)           ┆                     ┆             │\n",
       "│ 5YJRE11B48 ┆ null   ┆ null   ┆ BC    ┆ … ┆ 143609049      ┆ null                 ┆ null                ┆ null        │\n",
       "│ …          ┆ …      ┆ …      ┆ …     ┆ … ┆ …              ┆ …                    ┆ …                   ┆ …           │\n",
       "│ 1G1FW6S03P ┆ King   ┆ Seatac ┆ WA    ┆ … ┆ 244720059      ┆ POINT (-122.29179    ┆ PUGET SOUND ENERGY  ┆ 53033028801 │\n",
       "│            ┆        ┆        ┆       ┆   ┆                ┆ 47.43473)            ┆ INC||CITY OF …      ┆             │\n",
       "│ 3FMTK3SU1M ┆ King   ┆ Kent   ┆ WA    ┆ … ┆ 186104215      ┆ POINT (-122.2012521  ┆ PUGET SOUND ENERGY  ┆ 53033029206 │\n",
       "│            ┆        ┆        ┆       ┆   ┆                ┆ 47.3931814)          ┆ INC||CITY OF …      ┆             │\n",
       "│ 1N4AZ0CP0D ┆ Pierce ┆ Tacoma ┆ WA    ┆ … ┆ 153724504      ┆ POINT (-122.5113356  ┆ BONNEVILLE POWER    ┆ 53053060500 │\n",
       "│            ┆        ┆        ┆       ┆   ┆                ┆ 47.2923828)          ┆ ADMINISTRATION|…    ┆             │\n",
       "└────────────┴────────┴────────┴───────┴───┴────────────────┴──────────────────────┴─────────────────────┴─────────────┘"
      ]
     },
     "execution_count": 8,
     "metadata": {},
     "output_type": "execute_result"
    }
   ],
   "source": [
    "cars_pl"
   ]
  },
  {
   "cell_type": "code",
   "execution_count": 9,
   "metadata": {},
   "outputs": [
    {
     "data": {
      "text/html": [
       "<div><style>\n",
       ".dataframe > thead > tr > th,\n",
       ".dataframe > tbody > tr > td {\n",
       "  text-align: right;\n",
       "  white-space: pre-wrap;\n",
       "}\n",
       "</style>\n",
       "<small>shape: (1, 17)</small><table border=\"1\" class=\"dataframe\"><thead><tr><th>VIN (1-10)</th><th>County</th><th>City</th><th>State</th><th>Postal Code</th><th>Model Year</th><th>Make</th><th>Model</th><th>Electric Vehicle Type</th><th>Clean Alternative Fuel Vehicle (CAFV) Eligibility</th><th>Electric Range</th><th>Base MSRP</th><th>Legislative District</th><th>DOL Vehicle ID</th><th>Vehicle Location</th><th>Electric Utility</th><th>2020 Census Tract</th></tr><tr><td>str</td><td>str</td><td>str</td><td>str</td><td>i64</td><td>i64</td><td>str</td><td>str</td><td>str</td><td>str</td><td>i64</td><td>i64</td><td>i64</td><td>i64</td><td>str</td><td>str</td><td>i64</td></tr></thead><tbody><tr><td>&quot;5UXTA6C05P&quot;</td><td>&quot;Yakima&quot;</td><td>&quot;Yakima&quot;</td><td>&quot;WA&quot;</td><td>98903</td><td>2023</td><td>&quot;BMW&quot;</td><td>&quot;X5&quot;</td><td>&quot;Plug-in Hybrid…</td><td>&quot;Clean Alternat…</td><td>30</td><td>0</td><td>14</td><td>227153587</td><td>&quot;POINT (-120.47…</td><td>&quot;PACIFICORP&quot;</td><td>53077002803</td></tr></tbody></table></div>"
      ],
      "text/plain": [
       "shape: (1, 17)\n",
       "┌────────────┬────────┬────────┬───────┬───┬────────────────┬───────────────────┬──────────────────┬───────────────────┐\n",
       "│ VIN (1-10) ┆ County ┆ City   ┆ State ┆ … ┆ DOL Vehicle ID ┆ Vehicle Location  ┆ Electric Utility ┆ 2020 Census Tract │\n",
       "│ ---        ┆ ---    ┆ ---    ┆ ---   ┆   ┆ ---            ┆ ---               ┆ ---              ┆ ---               │\n",
       "│ str        ┆ str    ┆ str    ┆ str   ┆   ┆ i64            ┆ str               ┆ str              ┆ i64               │\n",
       "╞════════════╪════════╪════════╪═══════╪═══╪════════════════╪═══════════════════╪══════════════════╪═══════════════════╡\n",
       "│ 5UXTA6C05P ┆ Yakima ┆ Yakima ┆ WA    ┆ … ┆ 227153587      ┆ POINT             ┆ PACIFICORP       ┆ 53077002803       │\n",
       "│            ┆        ┆        ┆       ┆   ┆                ┆ (-120.477805      ┆                  ┆                   │\n",
       "│            ┆        ┆        ┆       ┆   ┆                ┆ 46.553505)        ┆                  ┆                   │\n",
       "└────────────┴────────┴────────┴───────┴───┴────────────────┴───────────────────┴──────────────────┴───────────────────┘"
      ]
     },
     "execution_count": 9,
     "metadata": {},
     "output_type": "execute_result"
    }
   ],
   "source": [
    "cars_pl.head(1)"
   ]
  },
  {
   "cell_type": "code",
   "execution_count": 10,
   "metadata": {},
   "outputs": [
    {
     "data": {
      "text/html": [
       "<div>\n",
       "<style scoped>\n",
       "    .dataframe tbody tr th:only-of-type {\n",
       "        vertical-align: middle;\n",
       "    }\n",
       "\n",
       "    .dataframe tbody tr th {\n",
       "        vertical-align: top;\n",
       "    }\n",
       "\n",
       "    .dataframe thead th {\n",
       "        text-align: right;\n",
       "    }\n",
       "</style>\n",
       "<table border=\"1\" class=\"dataframe\">\n",
       "  <thead>\n",
       "    <tr style=\"text-align: right;\">\n",
       "      <th></th>\n",
       "      <th>VIN (1-10)</th>\n",
       "      <th>County</th>\n",
       "      <th>City</th>\n",
       "      <th>State</th>\n",
       "      <th>Postal Code</th>\n",
       "      <th>Model Year</th>\n",
       "      <th>Make</th>\n",
       "      <th>Model</th>\n",
       "      <th>Electric Vehicle Type</th>\n",
       "      <th>Clean Alternative Fuel Vehicle (CAFV) Eligibility</th>\n",
       "      <th>Electric Range</th>\n",
       "      <th>Base MSRP</th>\n",
       "      <th>Legislative District</th>\n",
       "      <th>DOL Vehicle ID</th>\n",
       "      <th>Vehicle Location</th>\n",
       "      <th>Electric Utility</th>\n",
       "      <th>2020 Census Tract</th>\n",
       "    </tr>\n",
       "  </thead>\n",
       "  <tbody>\n",
       "    <tr>\n",
       "      <th>0</th>\n",
       "      <td>5UXTA6C05P</td>\n",
       "      <td>Yakima</td>\n",
       "      <td>Yakima</td>\n",
       "      <td>WA</td>\n",
       "      <td>98903.0</td>\n",
       "      <td>2023</td>\n",
       "      <td>BMW</td>\n",
       "      <td>X5</td>\n",
       "      <td>Plug-in Hybrid Electric Vehicle (PHEV)</td>\n",
       "      <td>Clean Alternative Fuel Vehicle Eligible</td>\n",
       "      <td>30</td>\n",
       "      <td>0</td>\n",
       "      <td>14.0</td>\n",
       "      <td>227153587</td>\n",
       "      <td>POINT (-120.477805 46.553505)</td>\n",
       "      <td>PACIFICORP</td>\n",
       "      <td>5.307700e+10</td>\n",
       "    </tr>\n",
       "  </tbody>\n",
       "</table>\n",
       "</div>"
      ],
      "text/plain": [
       "   VIN (1-10)  County    City State  Postal Code  Model Year Make Model  \\\n",
       "0  5UXTA6C05P  Yakima  Yakima    WA      98903.0        2023  BMW    X5   \n",
       "\n",
       "                    Electric Vehicle Type  \\\n",
       "0  Plug-in Hybrid Electric Vehicle (PHEV)   \n",
       "\n",
       "  Clean Alternative Fuel Vehicle (CAFV) Eligibility  Electric Range  \\\n",
       "0           Clean Alternative Fuel Vehicle Eligible              30   \n",
       "\n",
       "   Base MSRP  Legislative District  DOL Vehicle ID  \\\n",
       "0          0                  14.0       227153587   \n",
       "\n",
       "                Vehicle Location Electric Utility  2020 Census Tract  \n",
       "0  POINT (-120.477805 46.553505)       PACIFICORP       5.307700e+10  "
      ]
     },
     "execution_count": 10,
     "metadata": {},
     "output_type": "execute_result"
    }
   ],
   "source": [
    "cars_pd.head(1)"
   ]
  },
  {
   "cell_type": "code",
   "execution_count": 11,
   "metadata": {},
   "outputs": [
    {
     "data": {
      "text/html": [
       "<div><style>\n",
       ".dataframe > thead > tr > th,\n",
       ".dataframe > tbody > tr > td {\n",
       "  text-align: right;\n",
       "  white-space: pre-wrap;\n",
       "}\n",
       "</style>\n",
       "<small>shape: (9, 18)</small><table border=\"1\" class=\"dataframe\"><thead><tr><th>describe</th><th>VIN (1-10)</th><th>County</th><th>City</th><th>State</th><th>Postal Code</th><th>Model Year</th><th>Make</th><th>Model</th><th>Electric Vehicle Type</th><th>Clean Alternative Fuel Vehicle (CAFV) Eligibility</th><th>Electric Range</th><th>Base MSRP</th><th>Legislative District</th><th>DOL Vehicle ID</th><th>Vehicle Location</th><th>Electric Utility</th><th>2020 Census Tract</th></tr><tr><td>str</td><td>str</td><td>str</td><td>str</td><td>str</td><td>f64</td><td>f64</td><td>str</td><td>str</td><td>str</td><td>str</td><td>f64</td><td>f64</td><td>f64</td><td>f64</td><td>str</td><td>str</td><td>f64</td></tr></thead><tbody><tr><td>&quot;count&quot;</td><td>&quot;153830&quot;</td><td>&quot;153830&quot;</td><td>&quot;153830&quot;</td><td>&quot;153830&quot;</td><td>153830.0</td><td>153830.0</td><td>&quot;153830&quot;</td><td>&quot;153830&quot;</td><td>&quot;153830&quot;</td><td>&quot;153830&quot;</td><td>153830.0</td><td>153830.0</td><td>153830.0</td><td>153830.0</td><td>&quot;153830&quot;</td><td>&quot;153830&quot;</td><td>153830.0</td></tr><tr><td>&quot;null_count&quot;</td><td>&quot;0&quot;</td><td>&quot;3&quot;</td><td>&quot;3&quot;</td><td>&quot;0&quot;</td><td>3.0</td><td>0.0</td><td>&quot;0&quot;</td><td>&quot;0&quot;</td><td>&quot;0&quot;</td><td>&quot;0&quot;</td><td>0.0</td><td>0.0</td><td>339.0</td><td>0.0</td><td>&quot;7&quot;</td><td>&quot;3&quot;</td><td>3.0</td></tr><tr><td>&hellip;</td><td>&hellip;</td><td>&hellip;</td><td>&hellip;</td><td>&hellip;</td><td>&hellip;</td><td>&hellip;</td><td>&hellip;</td><td>&hellip;</td><td>&hellip;</td><td>&hellip;</td><td>&hellip;</td><td>&hellip;</td><td>&hellip;</td><td>&hellip;</td><td>&hellip;</td><td>&hellip;</td><td>&hellip;</td></tr><tr><td>&quot;75%&quot;</td><td>null</td><td>null</td><td>null</td><td>null</td><td>98370.0</td><td>2023.0</td><td>null</td><td>null</td><td>null</td><td>null</td><td>84.0</td><td>0.0</td><td>43.0</td><td>2.41506226e8</td><td>null</td><td>null</td><td>5.3053e10</td></tr><tr><td>&quot;max&quot;</td><td>&quot;ZASPATDWXR&quot;</td><td>&quot;Yellowstone&quot;</td><td>&quot;Zillah&quot;</td><td>&quot;WY&quot;</td><td>99577.0</td><td>2024.0</td><td>&quot;WHEEGO ELECTRI…</td><td>&quot;XC90&quot;</td><td>&quot;Plug-in Hybrid…</td><td>&quot;Not eligible d…</td><td>337.0</td><td>845000.0</td><td>49.0</td><td>4.79254772e8</td><td>&quot;POINT (-98.669…</td><td>&quot;PUGET SOUND EN…</td><td>5.6033e10</td></tr></tbody></table></div>"
      ],
      "text/plain": [
       "shape: (9, 18)\n",
       "┌────────────┬────────────┬─────────────┬────────┬───┬────────────────┬────────────────┬───────────────┬───────────────┐\n",
       "│ describe   ┆ VIN (1-10) ┆ County      ┆ City   ┆ … ┆ DOL Vehicle ID ┆ Vehicle        ┆ Electric      ┆ 2020 Census   │\n",
       "│ ---        ┆ ---        ┆ ---         ┆ ---    ┆   ┆ ---            ┆ Location       ┆ Utility       ┆ Tract         │\n",
       "│ str        ┆ str        ┆ str         ┆ str    ┆   ┆ f64            ┆ ---            ┆ ---           ┆ ---           │\n",
       "│            ┆            ┆             ┆        ┆   ┆                ┆ str            ┆ str           ┆ f64           │\n",
       "╞════════════╪════════════╪═════════════╪════════╪═══╪════════════════╪════════════════╪═══════════════╪═══════════════╡\n",
       "│ count      ┆ 153830     ┆ 153830      ┆ 153830 ┆ … ┆ 153830.0       ┆ 153830         ┆ 153830        ┆ 153830.0      │\n",
       "│ null_count ┆ 0          ┆ 3           ┆ 3      ┆ … ┆ 0.0            ┆ 7              ┆ 3             ┆ 3.0           │\n",
       "│ …          ┆ …          ┆ …           ┆ …      ┆ … ┆ …              ┆ …              ┆ …             ┆ …             │\n",
       "│ 50%        ┆ null       ┆ null        ┆ null   ┆ … ┆ 2.18328729e8   ┆ null           ┆ null          ┆ 5.3033e10     │\n",
       "│ 75%        ┆ null       ┆ null        ┆ null   ┆ … ┆ 2.41506226e8   ┆ null           ┆ null          ┆ 5.3053e10     │\n",
       "│ max        ┆ ZASPATDWXR ┆ Yellowstone ┆ Zillah ┆ … ┆ 4.79254772e8   ┆ POINT          ┆ PUGET SOUND   ┆ 5.6033e10     │\n",
       "│            ┆            ┆             ┆        ┆   ┆                ┆ (-98.66992     ┆ ENERGY        ┆               │\n",
       "│            ┆            ┆             ┆        ┆   ┆                ┆ 29.5366501)    ┆ INC||PUD NO   ┆               │\n",
       "│            ┆            ┆             ┆        ┆   ┆                ┆                ┆ 1…            ┆               │\n",
       "└────────────┴────────────┴─────────────┴────────┴───┴────────────────┴────────────────┴───────────────┴───────────────┘"
      ]
     },
     "execution_count": 11,
     "metadata": {},
     "output_type": "execute_result"
    }
   ],
   "source": [
    "cars_pl.describe()"
   ]
  },
  {
   "cell_type": "markdown",
   "metadata": {},
   "source": [
    "## Missing data"
   ]
  },
  {
   "cell_type": "markdown",
   "metadata": {},
   "source": [
    "Missing data formats in `polars` are `null` (applicable for all data types) and `NaN` (which is only applicable for float values).\n",
    "\n"
   ]
  },
  {
   "cell_type": "code",
   "execution_count": 13,
   "metadata": {},
   "outputs": [
    {
     "data": {
      "text/html": [
       "<div><style>\n",
       ".dataframe > thead > tr > th,\n",
       ".dataframe > tbody > tr > td {\n",
       "  text-align: right;\n",
       "  white-space: pre-wrap;\n",
       "}\n",
       "</style>\n",
       "<small>shape: (4, 3)</small><table border=\"1\" class=\"dataframe\"><thead><tr><th>a</th><th>b</th><th>c</th></tr><tr><td>str</td><td>f64</td><td>i64</td></tr></thead><tbody><tr><td>&quot;abc&quot;</td><td>1.2</td><td>3</td></tr><tr><td>&quot;acd&quot;</td><td>4.5</td><td>4</td></tr><tr><td>&quot;ade&quot;</td><td>9.0</td><td>1</td></tr><tr><td>null</td><td>NaN</td><td>null</td></tr></tbody></table></div>"
      ],
      "text/plain": [
       "shape: (4, 3)\n",
       "┌──────┬─────┬──────┐\n",
       "│ a    ┆ b   ┆ c    │\n",
       "│ ---  ┆ --- ┆ ---  │\n",
       "│ str  ┆ f64 ┆ i64  │\n",
       "╞══════╪═════╪══════╡\n",
       "│ abc  ┆ 1.2 ┆ 3    │\n",
       "│ acd  ┆ 4.5 ┆ 4    │\n",
       "│ ade  ┆ 9.0 ┆ 1    │\n",
       "│ null ┆ NaN ┆ null │\n",
       "└──────┴─────┴──────┘"
      ]
     },
     "execution_count": 13,
     "metadata": {},
     "output_type": "execute_result"
    }
   ],
   "source": [
    "null_ex = pl.DataFrame(\n",
    "    {\n",
    "        \"a\": [\"abc\", \"acd\", \"ade\", None],\n",
    "        \"b\": [1.2, 4.5, 9.0, np.nan],\n",
    "        \"c\": [3, 4, 1, None]\n",
    "    }\n",
    ")\n",
    "null_ex"
   ]
  },
  {
   "cell_type": "code",
   "execution_count": 20,
   "metadata": {},
   "outputs": [
    {
     "data": {
      "text/html": [
       "<div><style>\n",
       ".dataframe > thead > tr > th,\n",
       ".dataframe > tbody > tr > td {\n",
       "  text-align: right;\n",
       "  white-space: pre-wrap;\n",
       "}\n",
       "</style>\n",
       "<small>shape: (1, 3)</small><table border=\"1\" class=\"dataframe\"><thead><tr><th>a</th><th>b</th><th>c</th></tr><tr><td>u32</td><td>u32</td><td>u32</td></tr></thead><tbody><tr><td>1</td><td>0</td><td>1</td></tr></tbody></table></div>"
      ],
      "text/plain": [
       "shape: (1, 3)\n",
       "┌─────┬─────┬─────┐\n",
       "│ a   ┆ b   ┆ c   │\n",
       "│ --- ┆ --- ┆ --- │\n",
       "│ u32 ┆ u32 ┆ u32 │\n",
       "╞═════╪═════╪═════╡\n",
       "│ 1   ┆ 0   ┆ 1   │\n",
       "└─────┴─────┴─────┘"
      ]
     },
     "execution_count": 20,
     "metadata": {},
     "output_type": "execute_result"
    }
   ],
   "source": [
    "null_ex.null_count()"
   ]
  },
  {
   "cell_type": "code",
   "execution_count": 24,
   "metadata": {},
   "outputs": [
    {
     "data": {
      "text/html": [
       "<div><style>\n",
       ".dataframe > thead > tr > th,\n",
       ".dataframe > tbody > tr > td {\n",
       "  text-align: right;\n",
       "  white-space: pre-wrap;\n",
       "}\n",
       "</style>\n",
       "<small>shape: (4, 3)</small><table border=\"1\" class=\"dataframe\"><thead><tr><th>a</th><th>b</th><th>c</th></tr><tr><td>bool</td><td>bool</td><td>bool</td></tr></thead><tbody><tr><td>false</td><td>false</td><td>false</td></tr><tr><td>false</td><td>false</td><td>false</td></tr><tr><td>false</td><td>false</td><td>false</td></tr><tr><td>true</td><td>false</td><td>true</td></tr></tbody></table></div>"
      ],
      "text/plain": [
       "shape: (4, 3)\n",
       "┌───────┬───────┬───────┐\n",
       "│ a     ┆ b     ┆ c     │\n",
       "│ ---   ┆ ---   ┆ ---   │\n",
       "│ bool  ┆ bool  ┆ bool  │\n",
       "╞═══════╪═══════╪═══════╡\n",
       "│ false ┆ false ┆ false │\n",
       "│ false ┆ false ┆ false │\n",
       "│ false ┆ false ┆ false │\n",
       "│ true  ┆ false ┆ true  │\n",
       "└───────┴───────┴───────┘"
      ]
     },
     "execution_count": 24,
     "metadata": {},
     "output_type": "execute_result"
    }
   ],
   "source": [
    "null_ex.select(pl.col(\"*\").is_null())"
   ]
  },
  {
   "cell_type": "code",
   "execution_count": 23,
   "metadata": {},
   "outputs": [
    {
     "data": {
      "text/html": [
       "<div><style>\n",
       ".dataframe > thead > tr > th,\n",
       ".dataframe > tbody > tr > td {\n",
       "  text-align: right;\n",
       "  white-space: pre-wrap;\n",
       "}\n",
       "</style>\n",
       "<small>shape: (4, 1)</small><table border=\"1\" class=\"dataframe\"><thead><tr><th>b</th></tr><tr><td>bool</td></tr></thead><tbody><tr><td>false</td></tr><tr><td>false</td></tr><tr><td>false</td></tr><tr><td>true</td></tr></tbody></table></div>"
      ],
      "text/plain": [
       "shape: (4, 1)\n",
       "┌───────┐\n",
       "│ b     │\n",
       "│ ---   │\n",
       "│ bool  │\n",
       "╞═══════╡\n",
       "│ false │\n",
       "│ false │\n",
       "│ false │\n",
       "│ true  │\n",
       "└───────┘"
      ]
     },
     "execution_count": 23,
     "metadata": {},
     "output_type": "execute_result"
    }
   ],
   "source": [
    "null_ex.select(pl.col(\"b\").is_nan())"
   ]
  },
  {
   "cell_type": "code",
   "execution_count": 15,
   "metadata": {},
   "outputs": [
    {
     "data": {
      "text/html": [
       "<div><style>\n",
       ".dataframe > thead > tr > th,\n",
       ".dataframe > tbody > tr > td {\n",
       "  text-align: right;\n",
       "  white-space: pre-wrap;\n",
       "}\n",
       "</style>\n",
       "<small>shape: (1, 1)</small><table border=\"1\" class=\"dataframe\"><thead><tr><th>c</th></tr><tr><td>f64</td></tr></thead><tbody><tr><td>2.666667</td></tr></tbody></table></div>"
      ],
      "text/plain": [
       "shape: (1, 1)\n",
       "┌──────────┐\n",
       "│ c        │\n",
       "│ ---      │\n",
       "│ f64      │\n",
       "╞══════════╡\n",
       "│ 2.666667 │\n",
       "└──────────┘"
      ]
     },
     "execution_count": 15,
     "metadata": {},
     "output_type": "execute_result"
    }
   ],
   "source": [
    "null_ex.select(pl.col(\"c\")).mean()"
   ]
  },
  {
   "cell_type": "code",
   "execution_count": 16,
   "metadata": {},
   "outputs": [
    {
     "data": {
      "text/html": [
       "<div><style>\n",
       ".dataframe > thead > tr > th,\n",
       ".dataframe > tbody > tr > td {\n",
       "  text-align: right;\n",
       "  white-space: pre-wrap;\n",
       "}\n",
       "</style>\n",
       "<small>shape: (1, 1)</small><table border=\"1\" class=\"dataframe\"><thead><tr><th>b</th></tr><tr><td>f64</td></tr></thead><tbody><tr><td>NaN</td></tr></tbody></table></div>"
      ],
      "text/plain": [
       "shape: (1, 1)\n",
       "┌─────┐\n",
       "│ b   │\n",
       "│ --- │\n",
       "│ f64 │\n",
       "╞═════╡\n",
       "│ NaN │\n",
       "└─────┘"
      ]
     },
     "execution_count": 16,
     "metadata": {},
     "output_type": "execute_result"
    }
   ],
   "source": [
    "null_ex.select(pl.col(\"b\")).mean()"
   ]
  },
  {
   "cell_type": "markdown",
   "metadata": {},
   "source": [
    "## Selecting data"
   ]
  },
  {
   "cell_type": "markdown",
   "metadata": {},
   "source": [
    "|               | Pandas                                                                 | Polars                                                                                          |\n",
    "| ------------- | ---------------------------------------------------------------------- | ----------------------------------------------------------------------------------------------- |\n",
    "| **Selecting** | <code>df[cols] <br> df.loc[rows, cols] <br> df.iloc[rows, cols]</code> | <code>df[rows, cols]</code> <img src=\"img/unsafe.svg\" width=\"25\"/> <br> <code>df.select(cols) <br> df.slice(offset, length)</code> |\n"
   ]
  },
  {
   "cell_type": "code",
   "execution_count": 30,
   "metadata": {
    "tags": []
   },
   "outputs": [
    {
     "data": {
      "text/html": [
       "<div>\n",
       "<style scoped>\n",
       "    .dataframe tbody tr th:only-of-type {\n",
       "        vertical-align: middle;\n",
       "    }\n",
       "\n",
       "    .dataframe tbody tr th {\n",
       "        vertical-align: top;\n",
       "    }\n",
       "\n",
       "    .dataframe thead th {\n",
       "        text-align: right;\n",
       "    }\n",
       "</style>\n",
       "<table border=\"1\" class=\"dataframe\">\n",
       "  <thead>\n",
       "    <tr style=\"text-align: right;\">\n",
       "      <th></th>\n",
       "      <th>Model</th>\n",
       "      <th>Electric Vehicle Type</th>\n",
       "    </tr>\n",
       "  </thead>\n",
       "  <tbody>\n",
       "    <tr>\n",
       "      <th>1997</th>\n",
       "      <td>FUSION</td>\n",
       "      <td>Plug-in Hybrid Electric Vehicle (PHEV)</td>\n",
       "    </tr>\n",
       "    <tr>\n",
       "      <th>1998</th>\n",
       "      <td>MODEL 3</td>\n",
       "      <td>Battery Electric Vehicle (BEV)</td>\n",
       "    </tr>\n",
       "    <tr>\n",
       "      <th>1999</th>\n",
       "      <td>MODEL 3</td>\n",
       "      <td>Battery Electric Vehicle (BEV)</td>\n",
       "    </tr>\n",
       "    <tr>\n",
       "      <th>2000</th>\n",
       "      <td>FUSION</td>\n",
       "      <td>Plug-in Hybrid Electric Vehicle (PHEV)</td>\n",
       "    </tr>\n",
       "    <tr>\n",
       "      <th>2001</th>\n",
       "      <td>LEAF</td>\n",
       "      <td>Battery Electric Vehicle (BEV)</td>\n",
       "    </tr>\n",
       "  </tbody>\n",
       "</table>\n",
       "</div>"
      ],
      "text/plain": [
       "        Model                   Electric Vehicle Type\n",
       "1997   FUSION  Plug-in Hybrid Electric Vehicle (PHEV)\n",
       "1998  MODEL 3          Battery Electric Vehicle (BEV)\n",
       "1999  MODEL 3          Battery Electric Vehicle (BEV)\n",
       "2000   FUSION  Plug-in Hybrid Electric Vehicle (PHEV)\n",
       "2001     LEAF          Battery Electric Vehicle (BEV)"
      ]
     },
     "execution_count": 30,
     "metadata": {},
     "output_type": "execute_result"
    }
   ],
   "source": [
    "cars_pd.loc[1997:2001, [\"Model\", \"Electric Vehicle Type\"]]"
   ]
  },
  {
   "cell_type": "code",
   "execution_count": 68,
   "metadata": {
    "tags": []
   },
   "outputs": [
    {
     "data": {
      "text/html": [
       "<div><style>\n",
       ".dataframe > thead > tr > th,\n",
       ".dataframe > tbody > tr > td {\n",
       "  text-align: right;\n",
       "  white-space: pre-wrap;\n",
       "}\n",
       "</style>\n",
       "<small>shape: (5, 2)</small><table border=\"1\" class=\"dataframe\"><thead><tr><th>Model</th><th>Electric Vehicle Type</th></tr><tr><td>str</td><td>str</td></tr></thead><tbody><tr><td>&quot;FUSION&quot;</td><td>&quot;Plug-in Hybrid…</td></tr><tr><td>&quot;MODEL 3&quot;</td><td>&quot;Battery Electr…</td></tr><tr><td>&quot;MODEL 3&quot;</td><td>&quot;Battery Electr…</td></tr><tr><td>&quot;FUSION&quot;</td><td>&quot;Plug-in Hybrid…</td></tr><tr><td>&quot;LEAF&quot;</td><td>&quot;Battery Electr…</td></tr></tbody></table></div>"
      ],
      "text/plain": [
       "shape: (5, 2)\n",
       "┌─────────┬───────────────────────────────────┐\n",
       "│ Model   ┆ Electric Vehicle Type             │\n",
       "│ ---     ┆ ---                               │\n",
       "│ str     ┆ str                               │\n",
       "╞═════════╪═══════════════════════════════════╡\n",
       "│ FUSION  ┆ Plug-in Hybrid Electric Vehicle … │\n",
       "│ MODEL 3 ┆ Battery Electric Vehicle (BEV)    │\n",
       "│ MODEL 3 ┆ Battery Electric Vehicle (BEV)    │\n",
       "│ FUSION  ┆ Plug-in Hybrid Electric Vehicle … │\n",
       "│ LEAF    ┆ Battery Electric Vehicle (BEV)    │\n",
       "└─────────┴───────────────────────────────────┘"
      ]
     },
     "execution_count": 68,
     "metadata": {},
     "output_type": "execute_result"
    }
   ],
   "source": [
    "cars_pl.select([\"Model\", \"Electric Vehicle Type\"]).slice(1997, 5)"
   ]
  },
  {
   "cell_type": "markdown",
   "metadata": {},
   "source": [
    "## Filtering data"
   ]
  },
  {
   "cell_type": "markdown",
   "metadata": {},
   "source": [
    "|               | Pandas                                                                 | Polars                                                                                          |\n",
    "| ------------- | ---------------------------------------------------------------------- | ----------------------------------------------------------------------------------------------- |\n",
    "| **Filtering** | <code>df.loc[condition]</code> | <code>df.filter(condition)</code> |"
   ]
  },
  {
   "cell_type": "code",
   "execution_count": 62,
   "metadata": {
    "tags": []
   },
   "outputs": [
    {
     "data": {
      "text/html": [
       "<div>\n",
       "<style scoped>\n",
       "    .dataframe tbody tr th:only-of-type {\n",
       "        vertical-align: middle;\n",
       "    }\n",
       "\n",
       "    .dataframe tbody tr th {\n",
       "        vertical-align: top;\n",
       "    }\n",
       "\n",
       "    .dataframe thead th {\n",
       "        text-align: right;\n",
       "    }\n",
       "</style>\n",
       "<table border=\"1\" class=\"dataframe\">\n",
       "  <thead>\n",
       "    <tr style=\"text-align: right;\">\n",
       "      <th></th>\n",
       "      <th>Make</th>\n",
       "      <th>Model</th>\n",
       "      <th>Model Year</th>\n",
       "    </tr>\n",
       "  </thead>\n",
       "  <tbody>\n",
       "    <tr>\n",
       "      <th>0</th>\n",
       "      <td>BMW</td>\n",
       "      <td>X5</td>\n",
       "      <td>2023</td>\n",
       "    </tr>\n",
       "    <tr>\n",
       "      <th>17</th>\n",
       "      <td>TESLA</td>\n",
       "      <td>MODEL Y</td>\n",
       "      <td>2023</td>\n",
       "    </tr>\n",
       "    <tr>\n",
       "      <th>...</th>\n",
       "      <td>...</td>\n",
       "      <td>...</td>\n",
       "      <td>...</td>\n",
       "    </tr>\n",
       "    <tr>\n",
       "      <th>153819</th>\n",
       "      <td>CHEVROLET</td>\n",
       "      <td>BOLT EUV</td>\n",
       "      <td>2023</td>\n",
       "    </tr>\n",
       "    <tr>\n",
       "      <th>153827</th>\n",
       "      <td>CHEVROLET</td>\n",
       "      <td>BOLT EV</td>\n",
       "      <td>2023</td>\n",
       "    </tr>\n",
       "  </tbody>\n",
       "</table>\n",
       "<p>41159 rows × 3 columns</p>\n",
       "</div>"
      ],
      "text/plain": [
       "             Make     Model  Model Year\n",
       "0             BMW        X5        2023\n",
       "17          TESLA   MODEL Y        2023\n",
       "...           ...       ...         ...\n",
       "153819  CHEVROLET  BOLT EUV        2023\n",
       "153827  CHEVROLET   BOLT EV        2023\n",
       "\n",
       "[41159 rows x 3 columns]"
      ]
     },
     "execution_count": 62,
     "metadata": {},
     "output_type": "execute_result"
    }
   ],
   "source": [
    "cars_pd.loc[cars_pd[\"Model Year\"] == 2023, [\"Make\", \"Model\", \"Model Year\"]] "
   ]
  },
  {
   "cell_type": "code",
   "execution_count": 65,
   "metadata": {
    "tags": []
   },
   "outputs": [
    {
     "data": {
      "text/html": [
       "<div><style>\n",
       ".dataframe > thead > tr > th,\n",
       ".dataframe > tbody > tr > td {\n",
       "  text-align: right;\n",
       "  white-space: pre-wrap;\n",
       "}\n",
       "</style>\n",
       "<small>shape: (41_159, 3)</small><table border=\"1\" class=\"dataframe\"><thead><tr><th>Make</th><th>Model</th><th>Model Year</th></tr><tr><td>str</td><td>str</td><td>i64</td></tr></thead><tbody><tr><td>&quot;BMW&quot;</td><td>&quot;X5&quot;</td><td>2023</td></tr><tr><td>&quot;TESLA&quot;</td><td>&quot;MODEL Y&quot;</td><td>2023</td></tr><tr><td>&hellip;</td><td>&hellip;</td><td>&hellip;</td></tr><tr><td>&quot;CHEVROLET&quot;</td><td>&quot;BOLT EUV&quot;</td><td>2023</td></tr><tr><td>&quot;CHEVROLET&quot;</td><td>&quot;BOLT EV&quot;</td><td>2023</td></tr></tbody></table></div>"
      ],
      "text/plain": [
       "shape: (41_159, 3)\n",
       "┌───────────┬──────────┬────────────┐\n",
       "│ Make      ┆ Model    ┆ Model Year │\n",
       "│ ---       ┆ ---      ┆ ---        │\n",
       "│ str       ┆ str      ┆ i64        │\n",
       "╞═══════════╪══════════╪════════════╡\n",
       "│ BMW       ┆ X5       ┆ 2023       │\n",
       "│ TESLA     ┆ MODEL Y  ┆ 2023       │\n",
       "│ …         ┆ …        ┆ …          │\n",
       "│ TESLA     ┆ MODEL Y  ┆ 2023       │\n",
       "│ CHEVROLET ┆ BOLT EUV ┆ 2023       │\n",
       "│ CHEVROLET ┆ BOLT EV  ┆ 2023       │\n",
       "└───────────┴──────────┴────────────┘"
      ]
     },
     "execution_count": 65,
     "metadata": {},
     "output_type": "execute_result"
    }
   ],
   "source": [
    "cars_pl.filter(pl.col(\"Model Year\") == 2023).select([\"Make\", \"Model\", \"Model Year\"]) "
   ]
  },
  {
   "cell_type": "markdown",
   "metadata": {},
   "source": [
    "## Assignment"
   ]
  },
  {
   "cell_type": "markdown",
   "metadata": {
    "tags": []
   },
   "source": [
    "|               | Pandas                                                                 | Polars                                                                                          |\n",
    "| ------------- | ---------------------------------------------------------------------- | ----------------------------------------------------------------------------------------------- |\n",
    "| **Assigning** | <code>df.loc[condition, col] = val <br> df.assign(col = df[col].mask(condition, value))</code> | <code>df.with_columns(pl.when(condition).then(val1).otherwise(val2))</code> <img src=\"img/happy.svg\" width=\"25\"/> |"
   ]
  },
  {
   "cell_type": "code",
   "execution_count": 82,
   "metadata": {
    "tags": []
   },
   "outputs": [
    {
     "name": "stderr",
     "output_type": "stream",
     "text": [
      "C:\\Users\\klaud\\AppData\\Local\\Temp\\ipykernel_7700\\934722754.py:1: SettingWithCopyWarning: \n",
      "A value is trying to be set on a copy of a slice from a DataFrame.\n",
      "Try using .loc[row_indexer,col_indexer] = value instead\n",
      "\n",
      "See the caveats in the documentation: https://pandas.pydata.org/pandas-docs/stable/user_guide/indexing.html#returning-a-view-versus-a-copy\n",
      "  cars_pd[cars_pd[\"Make\"] == \"TESLA\"][\"Electric Range\"] = cars_pd[\"Electric Range\"] - 10\n"
     ]
    },
    {
     "data": {
      "text/html": [
       "<div>\n",
       "<style scoped>\n",
       "    .dataframe tbody tr th:only-of-type {\n",
       "        vertical-align: middle;\n",
       "    }\n",
       "\n",
       "    .dataframe tbody tr th {\n",
       "        vertical-align: top;\n",
       "    }\n",
       "\n",
       "    .dataframe thead th {\n",
       "        text-align: right;\n",
       "    }\n",
       "</style>\n",
       "<table border=\"1\" class=\"dataframe\">\n",
       "  <thead>\n",
       "    <tr style=\"text-align: right;\">\n",
       "      <th></th>\n",
       "      <th>VIN (1-10)</th>\n",
       "      <th>County</th>\n",
       "      <th>City</th>\n",
       "      <th>State</th>\n",
       "      <th>Postal Code</th>\n",
       "      <th>Model Year</th>\n",
       "      <th>Make</th>\n",
       "      <th>Model</th>\n",
       "      <th>Electric Vehicle Type</th>\n",
       "      <th>Clean Alternative Fuel Vehicle (CAFV) Eligibility</th>\n",
       "      <th>Electric Range</th>\n",
       "      <th>Base MSRP</th>\n",
       "      <th>Legislative District</th>\n",
       "      <th>DOL Vehicle ID</th>\n",
       "      <th>Vehicle Location</th>\n",
       "      <th>Electric Utility</th>\n",
       "      <th>2020 Census Tract</th>\n",
       "    </tr>\n",
       "  </thead>\n",
       "  <tbody>\n",
       "    <tr>\n",
       "      <th>0</th>\n",
       "      <td>5UXTA6C05P</td>\n",
       "      <td>Yakima</td>\n",
       "      <td>Yakima</td>\n",
       "      <td>WA</td>\n",
       "      <td>98903.0</td>\n",
       "      <td>2023</td>\n",
       "      <td>BMW</td>\n",
       "      <td>X5</td>\n",
       "      <td>Plug-in Hybrid Electric Vehicle (PHEV)</td>\n",
       "      <td>Clean Alternative Fuel Vehicle Eligible</td>\n",
       "      <td>30</td>\n",
       "      <td>0</td>\n",
       "      <td>14.0</td>\n",
       "      <td>227153587</td>\n",
       "      <td>POINT (-120.477805 46.553505)</td>\n",
       "      <td>PACIFICORP</td>\n",
       "      <td>5.307700e+10</td>\n",
       "    </tr>\n",
       "    <tr>\n",
       "      <th>1</th>\n",
       "      <td>5YJRE11B48</td>\n",
       "      <td>NaN</td>\n",
       "      <td>NaN</td>\n",
       "      <td>BC</td>\n",
       "      <td>NaN</td>\n",
       "      <td>2008</td>\n",
       "      <td>TESLA</td>\n",
       "      <td>ROADSTER</td>\n",
       "      <td>Battery Electric Vehicle (BEV)</td>\n",
       "      <td>Clean Alternative Fuel Vehicle Eligible</td>\n",
       "      <td>210</td>\n",
       "      <td>98950</td>\n",
       "      <td>NaN</td>\n",
       "      <td>143609049</td>\n",
       "      <td>NaN</td>\n",
       "      <td>NaN</td>\n",
       "      <td>NaN</td>\n",
       "    </tr>\n",
       "    <tr>\n",
       "      <th>...</th>\n",
       "      <td>...</td>\n",
       "      <td>...</td>\n",
       "      <td>...</td>\n",
       "      <td>...</td>\n",
       "      <td>...</td>\n",
       "      <td>...</td>\n",
       "      <td>...</td>\n",
       "      <td>...</td>\n",
       "      <td>...</td>\n",
       "      <td>...</td>\n",
       "      <td>...</td>\n",
       "      <td>...</td>\n",
       "      <td>...</td>\n",
       "      <td>...</td>\n",
       "      <td>...</td>\n",
       "      <td>...</td>\n",
       "      <td>...</td>\n",
       "    </tr>\n",
       "    <tr>\n",
       "      <th>153828</th>\n",
       "      <td>3FMTK3SU1M</td>\n",
       "      <td>King</td>\n",
       "      <td>Kent</td>\n",
       "      <td>WA</td>\n",
       "      <td>98031.0</td>\n",
       "      <td>2021</td>\n",
       "      <td>FORD</td>\n",
       "      <td>MUSTANG MACH-E</td>\n",
       "      <td>Battery Electric Vehicle (BEV)</td>\n",
       "      <td>Eligibility unknown as battery range has not b...</td>\n",
       "      <td>0</td>\n",
       "      <td>0</td>\n",
       "      <td>33.0</td>\n",
       "      <td>186104215</td>\n",
       "      <td>POINT (-122.2012521 47.3931814)</td>\n",
       "      <td>PUGET SOUND ENERGY INC||CITY OF TACOMA - (WA)</td>\n",
       "      <td>5.303303e+10</td>\n",
       "    </tr>\n",
       "    <tr>\n",
       "      <th>153829</th>\n",
       "      <td>1N4AZ0CP0D</td>\n",
       "      <td>Pierce</td>\n",
       "      <td>Tacoma</td>\n",
       "      <td>WA</td>\n",
       "      <td>98407.0</td>\n",
       "      <td>2013</td>\n",
       "      <td>NISSAN</td>\n",
       "      <td>LEAF</td>\n",
       "      <td>Battery Electric Vehicle (BEV)</td>\n",
       "      <td>Clean Alternative Fuel Vehicle Eligible</td>\n",
       "      <td>75</td>\n",
       "      <td>0</td>\n",
       "      <td>27.0</td>\n",
       "      <td>153724504</td>\n",
       "      <td>POINT (-122.5113356 47.2923828)</td>\n",
       "      <td>BONNEVILLE POWER ADMINISTRATION||CITY OF TACOM...</td>\n",
       "      <td>5.305306e+10</td>\n",
       "    </tr>\n",
       "  </tbody>\n",
       "</table>\n",
       "<p>153830 rows × 17 columns</p>\n",
       "</div>"
      ],
      "text/plain": [
       "        VIN (1-10)  County    City State  Postal Code  Model Year    Make  \\\n",
       "0       5UXTA6C05P  Yakima  Yakima    WA      98903.0        2023     BMW   \n",
       "1       5YJRE11B48     NaN     NaN    BC          NaN        2008   TESLA   \n",
       "...            ...     ...     ...   ...          ...         ...     ...   \n",
       "153828  3FMTK3SU1M    King    Kent    WA      98031.0        2021    FORD   \n",
       "153829  1N4AZ0CP0D  Pierce  Tacoma    WA      98407.0        2013  NISSAN   \n",
       "\n",
       "                 Model                   Electric Vehicle Type  \\\n",
       "0                   X5  Plug-in Hybrid Electric Vehicle (PHEV)   \n",
       "1             ROADSTER          Battery Electric Vehicle (BEV)   \n",
       "...                ...                                     ...   \n",
       "153828  MUSTANG MACH-E          Battery Electric Vehicle (BEV)   \n",
       "153829            LEAF          Battery Electric Vehicle (BEV)   \n",
       "\n",
       "        Clean Alternative Fuel Vehicle (CAFV) Eligibility  Electric Range  \\\n",
       "0                 Clean Alternative Fuel Vehicle Eligible              30   \n",
       "1                 Clean Alternative Fuel Vehicle Eligible             210   \n",
       "...                                                   ...             ...   \n",
       "153828  Eligibility unknown as battery range has not b...               0   \n",
       "153829            Clean Alternative Fuel Vehicle Eligible              75   \n",
       "\n",
       "        Base MSRP  Legislative District  DOL Vehicle ID  \\\n",
       "0               0                  14.0       227153587   \n",
       "1           98950                   NaN       143609049   \n",
       "...           ...                   ...             ...   \n",
       "153828          0                  33.0       186104215   \n",
       "153829          0                  27.0       153724504   \n",
       "\n",
       "                       Vehicle Location  \\\n",
       "0         POINT (-120.477805 46.553505)   \n",
       "1                                   NaN   \n",
       "...                                 ...   \n",
       "153828  POINT (-122.2012521 47.3931814)   \n",
       "153829  POINT (-122.5113356 47.2923828)   \n",
       "\n",
       "                                         Electric Utility  2020 Census Tract  \n",
       "0                                              PACIFICORP       5.307700e+10  \n",
       "1                                                     NaN                NaN  \n",
       "...                                                   ...                ...  \n",
       "153828      PUGET SOUND ENERGY INC||CITY OF TACOMA - (WA)       5.303303e+10  \n",
       "153829  BONNEVILLE POWER ADMINISTRATION||CITY OF TACOM...       5.305306e+10  \n",
       "\n",
       "[153830 rows x 17 columns]"
      ]
     },
     "execution_count": 82,
     "metadata": {},
     "output_type": "execute_result"
    }
   ],
   "source": [
    "cars_pd[cars_pd[\"Make\"] == \"TESLA\"][\"Electric Range\"] = cars_pd[\"Electric Range\"] - 10\n",
    "cars_pd"
   ]
  },
  {
   "cell_type": "code",
   "execution_count": 80,
   "metadata": {
    "tags": []
   },
   "outputs": [
    {
     "data": {
      "text/html": [
       "<div>\n",
       "<style scoped>\n",
       "    .dataframe tbody tr th:only-of-type {\n",
       "        vertical-align: middle;\n",
       "    }\n",
       "\n",
       "    .dataframe tbody tr th {\n",
       "        vertical-align: top;\n",
       "    }\n",
       "\n",
       "    .dataframe thead th {\n",
       "        text-align: right;\n",
       "    }\n",
       "</style>\n",
       "<table border=\"1\" class=\"dataframe\">\n",
       "  <thead>\n",
       "    <tr style=\"text-align: right;\">\n",
       "      <th></th>\n",
       "      <th>VIN (1-10)</th>\n",
       "      <th>County</th>\n",
       "      <th>City</th>\n",
       "      <th>State</th>\n",
       "      <th>Postal Code</th>\n",
       "      <th>Model Year</th>\n",
       "      <th>Make</th>\n",
       "      <th>Model</th>\n",
       "      <th>Electric Vehicle Type</th>\n",
       "      <th>Clean Alternative Fuel Vehicle (CAFV) Eligibility</th>\n",
       "      <th>Electric Range</th>\n",
       "      <th>Base MSRP</th>\n",
       "      <th>Legislative District</th>\n",
       "      <th>DOL Vehicle ID</th>\n",
       "      <th>Vehicle Location</th>\n",
       "      <th>Electric Utility</th>\n",
       "      <th>2020 Census Tract</th>\n",
       "    </tr>\n",
       "  </thead>\n",
       "  <tbody>\n",
       "    <tr>\n",
       "      <th>0</th>\n",
       "      <td>5UXTA6C05P</td>\n",
       "      <td>Yakima</td>\n",
       "      <td>Yakima</td>\n",
       "      <td>WA</td>\n",
       "      <td>98903.0</td>\n",
       "      <td>2023</td>\n",
       "      <td>BMW</td>\n",
       "      <td>X5</td>\n",
       "      <td>Plug-in Hybrid Electric Vehicle (PHEV)</td>\n",
       "      <td>Clean Alternative Fuel Vehicle Eligible</td>\n",
       "      <td>30</td>\n",
       "      <td>0</td>\n",
       "      <td>14.0</td>\n",
       "      <td>227153587</td>\n",
       "      <td>POINT (-120.477805 46.553505)</td>\n",
       "      <td>PACIFICORP</td>\n",
       "      <td>5.307700e+10</td>\n",
       "    </tr>\n",
       "    <tr>\n",
       "      <th>1</th>\n",
       "      <td>5YJRE11B48</td>\n",
       "      <td>NaN</td>\n",
       "      <td>NaN</td>\n",
       "      <td>BC</td>\n",
       "      <td>NaN</td>\n",
       "      <td>2008</td>\n",
       "      <td>TESLA</td>\n",
       "      <td>ROADSTER</td>\n",
       "      <td>Battery Electric Vehicle (BEV)</td>\n",
       "      <td>Clean Alternative Fuel Vehicle Eligible</td>\n",
       "      <td>210</td>\n",
       "      <td>98950</td>\n",
       "      <td>NaN</td>\n",
       "      <td>143609049</td>\n",
       "      <td>NaN</td>\n",
       "      <td>NaN</td>\n",
       "      <td>NaN</td>\n",
       "    </tr>\n",
       "    <tr>\n",
       "      <th>...</th>\n",
       "      <td>...</td>\n",
       "      <td>...</td>\n",
       "      <td>...</td>\n",
       "      <td>...</td>\n",
       "      <td>...</td>\n",
       "      <td>...</td>\n",
       "      <td>...</td>\n",
       "      <td>...</td>\n",
       "      <td>...</td>\n",
       "      <td>...</td>\n",
       "      <td>...</td>\n",
       "      <td>...</td>\n",
       "      <td>...</td>\n",
       "      <td>...</td>\n",
       "      <td>...</td>\n",
       "      <td>...</td>\n",
       "      <td>...</td>\n",
       "    </tr>\n",
       "    <tr>\n",
       "      <th>153828</th>\n",
       "      <td>3FMTK3SU1M</td>\n",
       "      <td>King</td>\n",
       "      <td>Kent</td>\n",
       "      <td>WA</td>\n",
       "      <td>98031.0</td>\n",
       "      <td>2021</td>\n",
       "      <td>FORD</td>\n",
       "      <td>MUSTANG MACH-E</td>\n",
       "      <td>Battery Electric Vehicle (BEV)</td>\n",
       "      <td>Eligibility unknown as battery range has not b...</td>\n",
       "      <td>0</td>\n",
       "      <td>0</td>\n",
       "      <td>33.0</td>\n",
       "      <td>186104215</td>\n",
       "      <td>POINT (-122.2012521 47.3931814)</td>\n",
       "      <td>PUGET SOUND ENERGY INC||CITY OF TACOMA - (WA)</td>\n",
       "      <td>5.303303e+10</td>\n",
       "    </tr>\n",
       "    <tr>\n",
       "      <th>153829</th>\n",
       "      <td>1N4AZ0CP0D</td>\n",
       "      <td>Pierce</td>\n",
       "      <td>Tacoma</td>\n",
       "      <td>WA</td>\n",
       "      <td>98407.0</td>\n",
       "      <td>2013</td>\n",
       "      <td>NISSAN</td>\n",
       "      <td>LEAF</td>\n",
       "      <td>Battery Electric Vehicle (BEV)</td>\n",
       "      <td>Clean Alternative Fuel Vehicle Eligible</td>\n",
       "      <td>75</td>\n",
       "      <td>0</td>\n",
       "      <td>27.0</td>\n",
       "      <td>153724504</td>\n",
       "      <td>POINT (-122.5113356 47.2923828)</td>\n",
       "      <td>BONNEVILLE POWER ADMINISTRATION||CITY OF TACOM...</td>\n",
       "      <td>5.305306e+10</td>\n",
       "    </tr>\n",
       "  </tbody>\n",
       "</table>\n",
       "<p>153830 rows × 17 columns</p>\n",
       "</div>"
      ],
      "text/plain": [
       "        VIN (1-10)  County    City State  Postal Code  Model Year    Make  \\\n",
       "0       5UXTA6C05P  Yakima  Yakima    WA      98903.0        2023     BMW   \n",
       "1       5YJRE11B48     NaN     NaN    BC          NaN        2008   TESLA   \n",
       "...            ...     ...     ...   ...          ...         ...     ...   \n",
       "153828  3FMTK3SU1M    King    Kent    WA      98031.0        2021    FORD   \n",
       "153829  1N4AZ0CP0D  Pierce  Tacoma    WA      98407.0        2013  NISSAN   \n",
       "\n",
       "                 Model                   Electric Vehicle Type  \\\n",
       "0                   X5  Plug-in Hybrid Electric Vehicle (PHEV)   \n",
       "1             ROADSTER          Battery Electric Vehicle (BEV)   \n",
       "...                ...                                     ...   \n",
       "153828  MUSTANG MACH-E          Battery Electric Vehicle (BEV)   \n",
       "153829            LEAF          Battery Electric Vehicle (BEV)   \n",
       "\n",
       "        Clean Alternative Fuel Vehicle (CAFV) Eligibility  Electric Range  \\\n",
       "0                 Clean Alternative Fuel Vehicle Eligible              30   \n",
       "1                 Clean Alternative Fuel Vehicle Eligible             210   \n",
       "...                                                   ...             ...   \n",
       "153828  Eligibility unknown as battery range has not b...               0   \n",
       "153829            Clean Alternative Fuel Vehicle Eligible              75   \n",
       "\n",
       "        Base MSRP  Legislative District  DOL Vehicle ID  \\\n",
       "0               0                  14.0       227153587   \n",
       "1           98950                   NaN       143609049   \n",
       "...           ...                   ...             ...   \n",
       "153828          0                  33.0       186104215   \n",
       "153829          0                  27.0       153724504   \n",
       "\n",
       "                       Vehicle Location  \\\n",
       "0         POINT (-120.477805 46.553505)   \n",
       "1                                   NaN   \n",
       "...                                 ...   \n",
       "153828  POINT (-122.2012521 47.3931814)   \n",
       "153829  POINT (-122.5113356 47.2923828)   \n",
       "\n",
       "                                         Electric Utility  2020 Census Tract  \n",
       "0                                              PACIFICORP       5.307700e+10  \n",
       "1                                                     NaN                NaN  \n",
       "...                                                   ...                ...  \n",
       "153828      PUGET SOUND ENERGY INC||CITY OF TACOMA - (WA)       5.303303e+10  \n",
       "153829  BONNEVILLE POWER ADMINISTRATION||CITY OF TACOM...       5.305306e+10  \n",
       "\n",
       "[153830 rows x 17 columns]"
      ]
     },
     "execution_count": 80,
     "metadata": {},
     "output_type": "execute_result"
    }
   ],
   "source": [
    "cars_pd.loc[cars_pd[\"Make\"] == \"TESLA\", \"Electric Range\"] = cars_pd[\"Electric Range\"] - 10\n",
    "cars_pd"
   ]
  },
  {
   "cell_type": "code",
   "execution_count": 94,
   "metadata": {
    "tags": []
   },
   "outputs": [
    {
     "data": {
      "text/html": [
       "<div>\n",
       "<style scoped>\n",
       "    .dataframe tbody tr th:only-of-type {\n",
       "        vertical-align: middle;\n",
       "    }\n",
       "\n",
       "    .dataframe tbody tr th {\n",
       "        vertical-align: top;\n",
       "    }\n",
       "\n",
       "    .dataframe thead th {\n",
       "        text-align: right;\n",
       "    }\n",
       "</style>\n",
       "<table border=\"1\" class=\"dataframe\">\n",
       "  <thead>\n",
       "    <tr style=\"text-align: right;\">\n",
       "      <th></th>\n",
       "      <th>VIN (1-10)</th>\n",
       "      <th>County</th>\n",
       "      <th>City</th>\n",
       "      <th>State</th>\n",
       "      <th>Postal Code</th>\n",
       "      <th>Model Year</th>\n",
       "      <th>Make</th>\n",
       "      <th>Model</th>\n",
       "      <th>Electric Vehicle Type</th>\n",
       "      <th>Clean Alternative Fuel Vehicle (CAFV) Eligibility</th>\n",
       "      <th>Electric Range</th>\n",
       "      <th>Base MSRP</th>\n",
       "      <th>Legislative District</th>\n",
       "      <th>DOL Vehicle ID</th>\n",
       "      <th>Vehicle Location</th>\n",
       "      <th>Electric Utility</th>\n",
       "      <th>2020 Census Tract</th>\n",
       "    </tr>\n",
       "  </thead>\n",
       "  <tbody>\n",
       "    <tr>\n",
       "      <th>0</th>\n",
       "      <td>5UXTA6C05P</td>\n",
       "      <td>Yakima</td>\n",
       "      <td>Yakima</td>\n",
       "      <td>WA</td>\n",
       "      <td>98903.0</td>\n",
       "      <td>2023</td>\n",
       "      <td>BMW</td>\n",
       "      <td>X5</td>\n",
       "      <td>Plug-in Hybrid Electric Vehicle (PHEV)</td>\n",
       "      <td>Clean Alternative Fuel Vehicle Eligible</td>\n",
       "      <td>30</td>\n",
       "      <td>0</td>\n",
       "      <td>14.0</td>\n",
       "      <td>227153587</td>\n",
       "      <td>POINT (-120.477805 46.553505)</td>\n",
       "      <td>PACIFICORP</td>\n",
       "      <td>5.307700e+10</td>\n",
       "    </tr>\n",
       "    <tr>\n",
       "      <th>1</th>\n",
       "      <td>5YJRE11B48</td>\n",
       "      <td>NaN</td>\n",
       "      <td>NaN</td>\n",
       "      <td>BC</td>\n",
       "      <td>NaN</td>\n",
       "      <td>2008</td>\n",
       "      <td>TESLA</td>\n",
       "      <td>ROADSTER</td>\n",
       "      <td>Battery Electric Vehicle (BEV)</td>\n",
       "      <td>Clean Alternative Fuel Vehicle Eligible</td>\n",
       "      <td>200</td>\n",
       "      <td>98950</td>\n",
       "      <td>NaN</td>\n",
       "      <td>143609049</td>\n",
       "      <td>NaN</td>\n",
       "      <td>NaN</td>\n",
       "      <td>NaN</td>\n",
       "    </tr>\n",
       "    <tr>\n",
       "      <th>...</th>\n",
       "      <td>...</td>\n",
       "      <td>...</td>\n",
       "      <td>...</td>\n",
       "      <td>...</td>\n",
       "      <td>...</td>\n",
       "      <td>...</td>\n",
       "      <td>...</td>\n",
       "      <td>...</td>\n",
       "      <td>...</td>\n",
       "      <td>...</td>\n",
       "      <td>...</td>\n",
       "      <td>...</td>\n",
       "      <td>...</td>\n",
       "      <td>...</td>\n",
       "      <td>...</td>\n",
       "      <td>...</td>\n",
       "      <td>...</td>\n",
       "    </tr>\n",
       "    <tr>\n",
       "      <th>153828</th>\n",
       "      <td>3FMTK3SU1M</td>\n",
       "      <td>King</td>\n",
       "      <td>Kent</td>\n",
       "      <td>WA</td>\n",
       "      <td>98031.0</td>\n",
       "      <td>2021</td>\n",
       "      <td>FORD</td>\n",
       "      <td>MUSTANG MACH-E</td>\n",
       "      <td>Battery Electric Vehicle (BEV)</td>\n",
       "      <td>Eligibility unknown as battery range has not b...</td>\n",
       "      <td>0</td>\n",
       "      <td>0</td>\n",
       "      <td>33.0</td>\n",
       "      <td>186104215</td>\n",
       "      <td>POINT (-122.2012521 47.3931814)</td>\n",
       "      <td>PUGET SOUND ENERGY INC||CITY OF TACOMA - (WA)</td>\n",
       "      <td>5.303303e+10</td>\n",
       "    </tr>\n",
       "    <tr>\n",
       "      <th>153829</th>\n",
       "      <td>1N4AZ0CP0D</td>\n",
       "      <td>Pierce</td>\n",
       "      <td>Tacoma</td>\n",
       "      <td>WA</td>\n",
       "      <td>98407.0</td>\n",
       "      <td>2013</td>\n",
       "      <td>NISSAN</td>\n",
       "      <td>LEAF</td>\n",
       "      <td>Battery Electric Vehicle (BEV)</td>\n",
       "      <td>Clean Alternative Fuel Vehicle Eligible</td>\n",
       "      <td>75</td>\n",
       "      <td>0</td>\n",
       "      <td>27.0</td>\n",
       "      <td>153724504</td>\n",
       "      <td>POINT (-122.5113356 47.2923828)</td>\n",
       "      <td>BONNEVILLE POWER ADMINISTRATION||CITY OF TACOM...</td>\n",
       "      <td>5.305306e+10</td>\n",
       "    </tr>\n",
       "  </tbody>\n",
       "</table>\n",
       "<p>153830 rows × 17 columns</p>\n",
       "</div>"
      ],
      "text/plain": [
       "        VIN (1-10)  County    City State  Postal Code  Model Year    Make  \\\n",
       "0       5UXTA6C05P  Yakima  Yakima    WA      98903.0        2023     BMW   \n",
       "1       5YJRE11B48     NaN     NaN    BC          NaN        2008   TESLA   \n",
       "...            ...     ...     ...   ...          ...         ...     ...   \n",
       "153828  3FMTK3SU1M    King    Kent    WA      98031.0        2021    FORD   \n",
       "153829  1N4AZ0CP0D  Pierce  Tacoma    WA      98407.0        2013  NISSAN   \n",
       "\n",
       "                 Model                   Electric Vehicle Type  \\\n",
       "0                   X5  Plug-in Hybrid Electric Vehicle (PHEV)   \n",
       "1             ROADSTER          Battery Electric Vehicle (BEV)   \n",
       "...                ...                                     ...   \n",
       "153828  MUSTANG MACH-E          Battery Electric Vehicle (BEV)   \n",
       "153829            LEAF          Battery Electric Vehicle (BEV)   \n",
       "\n",
       "        Clean Alternative Fuel Vehicle (CAFV) Eligibility  Electric Range  \\\n",
       "0                 Clean Alternative Fuel Vehicle Eligible              30   \n",
       "1                 Clean Alternative Fuel Vehicle Eligible             200   \n",
       "...                                                   ...             ...   \n",
       "153828  Eligibility unknown as battery range has not b...               0   \n",
       "153829            Clean Alternative Fuel Vehicle Eligible              75   \n",
       "\n",
       "        Base MSRP  Legislative District  DOL Vehicle ID  \\\n",
       "0               0                  14.0       227153587   \n",
       "1           98950                   NaN       143609049   \n",
       "...           ...                   ...             ...   \n",
       "153828          0                  33.0       186104215   \n",
       "153829          0                  27.0       153724504   \n",
       "\n",
       "                       Vehicle Location  \\\n",
       "0         POINT (-120.477805 46.553505)   \n",
       "1                                   NaN   \n",
       "...                                 ...   \n",
       "153828  POINT (-122.2012521 47.3931814)   \n",
       "153829  POINT (-122.5113356 47.2923828)   \n",
       "\n",
       "                                         Electric Utility  2020 Census Tract  \n",
       "0                                              PACIFICORP       5.307700e+10  \n",
       "1                                                     NaN                NaN  \n",
       "...                                                   ...                ...  \n",
       "153828      PUGET SOUND ENERGY INC||CITY OF TACOMA - (WA)       5.303303e+10  \n",
       "153829  BONNEVILLE POWER ADMINISTRATION||CITY OF TACOM...       5.305306e+10  \n",
       "\n",
       "[153830 rows x 17 columns]"
      ]
     },
     "execution_count": 94,
     "metadata": {},
     "output_type": "execute_result"
    }
   ],
   "source": [
    "cars_pd.assign(**{\"Electric Range\": cars_pd[\"Electric Range\"].mask(cars_pd[\"Make\"] == \"TESLA\", cars_pd[\"Electric Range\"] - 10)})"
   ]
  },
  {
   "cell_type": "code",
   "execution_count": 100,
   "metadata": {
    "tags": []
   },
   "outputs": [
    {
     "data": {
      "text/html": [
       "<div><style>\n",
       ".dataframe > thead > tr > th,\n",
       ".dataframe > tbody > tr > td {\n",
       "  text-align: right;\n",
       "  white-space: pre-wrap;\n",
       "}\n",
       "</style>\n",
       "<small>shape: (153_830, 17)</small><table border=\"1\" class=\"dataframe\"><thead><tr><th>VIN (1-10)</th><th>County</th><th>City</th><th>State</th><th>Postal Code</th><th>Model Year</th><th>Make</th><th>Model</th><th>Electric Vehicle Type</th><th>Clean Alternative Fuel Vehicle (CAFV) Eligibility</th><th>Electric Range</th><th>Base MSRP</th><th>Legislative District</th><th>DOL Vehicle ID</th><th>Vehicle Location</th><th>Electric Utility</th><th>2020 Census Tract</th></tr><tr><td>str</td><td>str</td><td>str</td><td>str</td><td>i64</td><td>i64</td><td>str</td><td>str</td><td>str</td><td>str</td><td>i64</td><td>i64</td><td>i64</td><td>i64</td><td>str</td><td>str</td><td>i64</td></tr></thead><tbody><tr><td>&quot;5UXTA6C05P&quot;</td><td>&quot;Yakima&quot;</td><td>&quot;Yakima&quot;</td><td>&quot;WA&quot;</td><td>98903</td><td>2023</td><td>&quot;BMW&quot;</td><td>&quot;X5&quot;</td><td>&quot;Plug-in Hybrid…</td><td>&quot;Clean Alternat…</td><td>30</td><td>0</td><td>14</td><td>227153587</td><td>&quot;POINT (-120.47…</td><td>&quot;PACIFICORP&quot;</td><td>53077002803</td></tr><tr><td>&quot;5YJRE11B48&quot;</td><td>null</td><td>null</td><td>&quot;BC&quot;</td><td>null</td><td>2008</td><td>&quot;TESLA&quot;</td><td>&quot;ROADSTER&quot;</td><td>&quot;Battery Electr…</td><td>&quot;Clean Alternat…</td><td>210</td><td>98950</td><td>null</td><td>143609049</td><td>null</td><td>null</td><td>null</td></tr><tr><td>&hellip;</td><td>&hellip;</td><td>&hellip;</td><td>&hellip;</td><td>&hellip;</td><td>&hellip;</td><td>&hellip;</td><td>&hellip;</td><td>&hellip;</td><td>&hellip;</td><td>&hellip;</td><td>&hellip;</td><td>&hellip;</td><td>&hellip;</td><td>&hellip;</td><td>&hellip;</td><td>&hellip;</td></tr><tr><td>&quot;3FMTK3SU1M&quot;</td><td>&quot;King&quot;</td><td>&quot;Kent&quot;</td><td>&quot;WA&quot;</td><td>98031</td><td>2021</td><td>&quot;FORD&quot;</td><td>&quot;MUSTANG MACH-E…</td><td>&quot;Battery Electr…</td><td>&quot;Eligibility un…</td><td>0</td><td>0</td><td>33</td><td>186104215</td><td>&quot;POINT (-122.20…</td><td>&quot;PUGET SOUND EN…</td><td>53033029206</td></tr><tr><td>&quot;1N4AZ0CP0D&quot;</td><td>&quot;Pierce&quot;</td><td>&quot;Tacoma&quot;</td><td>&quot;WA&quot;</td><td>98407</td><td>2013</td><td>&quot;NISSAN&quot;</td><td>&quot;LEAF&quot;</td><td>&quot;Battery Electr…</td><td>&quot;Clean Alternat…</td><td>75</td><td>0</td><td>27</td><td>153724504</td><td>&quot;POINT (-122.51…</td><td>&quot;BONNEVILLE POW…</td><td>53053060500</td></tr></tbody></table></div>"
      ],
      "text/plain": [
       "shape: (153_830, 17)\n",
       "┌────────────┬────────┬────────┬───────┬───┬─────────────┬─────────────┬─────────────┬─────────────┐\n",
       "│ VIN (1-10) ┆ County ┆ City   ┆ State ┆ … ┆ DOL Vehicle ┆ Vehicle     ┆ Electric    ┆ 2020 Census │\n",
       "│ ---        ┆ ---    ┆ ---    ┆ ---   ┆   ┆ ID          ┆ Location    ┆ Utility     ┆ Tract       │\n",
       "│ str        ┆ str    ┆ str    ┆ str   ┆   ┆ ---         ┆ ---         ┆ ---         ┆ ---         │\n",
       "│            ┆        ┆        ┆       ┆   ┆ i64         ┆ str         ┆ str         ┆ i64         │\n",
       "╞════════════╪════════╪════════╪═══════╪═══╪═════════════╪═════════════╪═════════════╪═════════════╡\n",
       "│ 5UXTA6C05P ┆ Yakima ┆ Yakima ┆ WA    ┆ … ┆ 227153587   ┆ POINT (-120 ┆ PACIFICORP  ┆ 53077002803 │\n",
       "│            ┆        ┆        ┆       ┆   ┆             ┆ .477805     ┆             ┆             │\n",
       "│            ┆        ┆        ┆       ┆   ┆             ┆ 46.553505)  ┆             ┆             │\n",
       "│ 5YJRE11B48 ┆ null   ┆ null   ┆ BC    ┆ … ┆ 143609049   ┆ null        ┆ null        ┆ null        │\n",
       "│ …          ┆ …      ┆ …      ┆ …     ┆ … ┆ …           ┆ …           ┆ …           ┆ …           │\n",
       "│ 1G1FW6S03P ┆ King   ┆ Seatac ┆ WA    ┆ … ┆ 244720059   ┆ POINT       ┆ PUGET SOUND ┆ 53033028801 │\n",
       "│            ┆        ┆        ┆       ┆   ┆             ┆ (-122.29179 ┆ ENERGY      ┆             │\n",
       "│            ┆        ┆        ┆       ┆   ┆             ┆ 47.43473)   ┆ INC||CITY   ┆             │\n",
       "│            ┆        ┆        ┆       ┆   ┆             ┆             ┆ OF …        ┆             │\n",
       "│ 3FMTK3SU1M ┆ King   ┆ Kent   ┆ WA    ┆ … ┆ 186104215   ┆ POINT (-122 ┆ PUGET SOUND ┆ 53033029206 │\n",
       "│            ┆        ┆        ┆       ┆   ┆             ┆ .2012521    ┆ ENERGY      ┆             │\n",
       "│            ┆        ┆        ┆       ┆   ┆             ┆ 47.3931814) ┆ INC||CITY   ┆             │\n",
       "│            ┆        ┆        ┆       ┆   ┆             ┆             ┆ OF …        ┆             │\n",
       "│ 1N4AZ0CP0D ┆ Pierce ┆ Tacoma ┆ WA    ┆ … ┆ 153724504   ┆ POINT (-122 ┆ BONNEVILLE  ┆ 53053060500 │\n",
       "│            ┆        ┆        ┆       ┆   ┆             ┆ .5113356    ┆ POWER ADMIN ┆             │\n",
       "│            ┆        ┆        ┆       ┆   ┆             ┆ 47.2923828) ┆ ISTRATION|… ┆             │\n",
       "└────────────┴────────┴────────┴───────┴───┴─────────────┴─────────────┴─────────────┴─────────────┘"
      ]
     },
     "execution_count": 100,
     "metadata": {},
     "output_type": "execute_result"
    }
   ],
   "source": [
    "cars_pl.with_columns(\n",
    "    pl.when(pl.col(\"Make\") == \"TESLA\")\n",
    "    .then(pl.col(\"Electric Range\") - 10)\n",
    "    .otherwise(pl.col(\"Electric Range\"))\n",
    ")"
   ]
  },
  {
   "cell_type": "markdown",
   "metadata": {},
   "source": [
    "<h2>Zadanie 1</h2>"
   ]
  },
  {
   "cell_type": "markdown",
   "metadata": {},
   "source": [
    "Znajdź marki samochodów, dla których średni zasięg elektryczny jest większy niż 50. Posortuj je malejąco ze względu na tę wartość."
   ]
  },
  {
   "cell_type": "code",
   "execution_count": 102,
   "metadata": {
    "tags": []
   },
   "outputs": [
    {
     "data": {
      "text/html": [
       "<div><style>\n",
       ".dataframe > thead > tr > th,\n",
       ".dataframe > tbody > tr > td {\n",
       "  text-align: right;\n",
       "  white-space: pre-wrap;\n",
       "}\n",
       "</style>\n",
       "<small>shape: (11, 2)</small><table border=\"1\" class=\"dataframe\"><thead><tr><th>Make</th><th>Mean Electric Range</th></tr><tr><td>str</td><td>f64</td></tr></thead><tbody><tr><td>&quot;JAGUAR&quot;</td><td>202.8</td></tr><tr><td>&quot;WHEEGO ELECTRI…</td><td>100.0</td></tr><tr><td>&hellip;</td><td>&hellip;</td></tr><tr><td>&quot;AUDI&quot;</td><td>52.992889</td></tr><tr><td>&quot;KIA&quot;</td><td>50.158708</td></tr></tbody></table></div>"
      ],
      "text/plain": [
       "shape: (11, 2)\n",
       "┌──────────────────────┬─────────────────────┐\n",
       "│ Make                 ┆ Mean Electric Range │\n",
       "│ ---                  ┆ ---                 │\n",
       "│ str                  ┆ f64                 │\n",
       "╞══════════════════════╪═════════════════════╡\n",
       "│ JAGUAR               ┆ 202.8               │\n",
       "│ WHEEGO ELECTRIC CARS ┆ 100.0               │\n",
       "│ …                    ┆ …                   │\n",
       "│ AZURE DYNAMICS       ┆ 56.0                │\n",
       "│ AUDI                 ┆ 52.992889           │\n",
       "│ KIA                  ┆ 50.158708           │\n",
       "└──────────────────────┴─────────────────────┘"
      ]
     },
     "execution_count": 102,
     "metadata": {},
     "output_type": "execute_result"
    }
   ],
   "source": []
  },
  {
   "cell_type": "markdown",
   "metadata": {},
   "source": [
    "## Using SQL\n",
    "\n",
    "SQL queries are executed lazily."
   ]
  },
  {
   "cell_type": "code",
   "execution_count": 38,
   "metadata": {},
   "outputs": [],
   "source": [
    "sql_ctx = pl.SQLContext(cars=cars_pl)"
   ]
  },
  {
   "cell_type": "code",
   "execution_count": 39,
   "metadata": {},
   "outputs": [
    {
     "data": {
      "text/html": [
       "<div><style>\n",
       ".dataframe > thead > tr > th,\n",
       ".dataframe > tbody > tr > td {\n",
       "  text-align: right;\n",
       "  white-space: pre-wrap;\n",
       "}\n",
       "</style>\n",
       "<small>shape: (3, 17)</small><table border=\"1\" class=\"dataframe\"><thead><tr><th>VIN (1-10)</th><th>County</th><th>City</th><th>State</th><th>Postal Code</th><th>Model Year</th><th>Make</th><th>Model</th><th>Electric Vehicle Type</th><th>Clean Alternative Fuel Vehicle (CAFV) Eligibility</th><th>Electric Range</th><th>Base MSRP</th><th>Legislative District</th><th>DOL Vehicle ID</th><th>Vehicle Location</th><th>Electric Utility</th><th>2020 Census Tract</th></tr><tr><td>str</td><td>str</td><td>str</td><td>str</td><td>i64</td><td>i64</td><td>str</td><td>str</td><td>str</td><td>str</td><td>i64</td><td>i64</td><td>i64</td><td>i64</td><td>str</td><td>str</td><td>i64</td></tr></thead><tbody><tr><td>&quot;SALKP9F4XP&quot;</td><td>&quot;King&quot;</td><td>&quot;Seattle&quot;</td><td>&quot;WA&quot;</td><td>98112</td><td>2023</td><td>&quot;LAND ROVER&quot;</td><td>&quot;RANGE ROVER&quot;</td><td>&quot;Plug-in Hybrid…</td><td>&quot;Clean Alternat…</td><td>51</td><td>0</td><td>43</td><td>238061995</td><td>&quot;POINT (-122.30…</td><td>&quot;CITY OF SEATTL…</td><td>53033006300</td></tr><tr><td>&quot;SALKP9F40P&quot;</td><td>&quot;Chelan&quot;</td><td>&quot;Wenatchee&quot;</td><td>&quot;WA&quot;</td><td>98801</td><td>2023</td><td>&quot;LAND ROVER&quot;</td><td>&quot;RANGE ROVER&quot;</td><td>&quot;Plug-in Hybrid…</td><td>&quot;Clean Alternat…</td><td>51</td><td>0</td><td>12</td><td>240695801</td><td>&quot;POINT (-120.32…</td><td>&quot;PUD NO 1 OF CH…</td><td>53007961102</td></tr><tr><td>&quot;SALKP9F44P&quot;</td><td>&quot;King&quot;</td><td>&quot;Issaquah&quot;</td><td>&quot;WA&quot;</td><td>98029</td><td>2023</td><td>&quot;LAND ROVER&quot;</td><td>&quot;RANGE ROVER&quot;</td><td>&quot;Plug-in Hybrid…</td><td>&quot;Clean Alternat…</td><td>51</td><td>0</td><td>5</td><td>228739325</td><td>&quot;POINT (-121.99…</td><td>&quot;PUGET SOUND EN…</td><td>53033032221</td></tr></tbody></table></div>"
      ],
      "text/plain": [
       "shape: (3, 17)\n",
       "┌────────────┬────────┬───────────┬───────┬───┬────────────────┬──────────────┬────────────────────┬───────────────────┐\n",
       "│ VIN (1-10) ┆ County ┆ City      ┆ State ┆ … ┆ DOL Vehicle ID ┆ Vehicle      ┆ Electric Utility   ┆ 2020 Census Tract │\n",
       "│ ---        ┆ ---    ┆ ---       ┆ ---   ┆   ┆ ---            ┆ Location     ┆ ---                ┆ ---               │\n",
       "│ str        ┆ str    ┆ str       ┆ str   ┆   ┆ i64            ┆ ---          ┆ str                ┆ i64               │\n",
       "│            ┆        ┆           ┆       ┆   ┆                ┆ str          ┆                    ┆                   │\n",
       "╞════════════╪════════╪═══════════╪═══════╪═══╪════════════════╪══════════════╪════════════════════╪═══════════════════╡\n",
       "│ SALKP9F4XP ┆ King   ┆ Seattle   ┆ WA    ┆ … ┆ 238061995      ┆ POINT        ┆ CITY OF SEATTLE -  ┆ 53033006300       │\n",
       "│            ┆        ┆           ┆       ┆   ┆                ┆ (-122.306935 ┆ (WA)|CITY OF T…    ┆                   │\n",
       "│            ┆        ┆           ┆       ┆   ┆                ┆ 47.62441)    ┆                    ┆                   │\n",
       "│ SALKP9F40P ┆ Chelan ┆ Wenatchee ┆ WA    ┆ … ┆ 240695801      ┆ POINT        ┆ PUD NO 1 OF CHELAN ┆ 53007961102       │\n",
       "│            ┆        ┆           ┆       ┆   ┆                ┆ (-120.32009  ┆ COUNTY             ┆                   │\n",
       "│            ┆        ┆           ┆       ┆   ┆                ┆ 47.42255)    ┆                    ┆                   │\n",
       "│ SALKP9F44P ┆ King   ┆ Issaquah  ┆ WA    ┆ … ┆ 228739325      ┆ POINT        ┆ PUGET SOUND ENERGY ┆ 53033032221       │\n",
       "│            ┆        ┆           ┆       ┆   ┆                ┆ (-121.999595 ┆ INC||CITY OF …     ┆                   │\n",
       "│            ┆        ┆           ┆       ┆   ┆                ┆ 47.547635)   ┆                    ┆                   │\n",
       "└────────────┴────────┴───────────┴───────┴───┴────────────────┴──────────────┴────────────────────┴───────────────────┘"
      ]
     },
     "execution_count": 39,
     "metadata": {},
     "output_type": "execute_result"
    }
   ],
   "source": [
    "query = \"\"\"SELECT * FROM cars\n",
    "           WHERE \"Model Year\" = 2023\n",
    "           ORDER BY \"Electric Range\" DESC\n",
    "           LIMIT 3\n",
    "           \"\"\"\n",
    "sql_ctx.execute(query, eager=True)\n",
    "# sql_ctx.execute(query).collect()"
   ]
  }
 ],
 "metadata": {
  "kernelspec": {
   "display_name": "Python 3 (ipykernel)",
   "language": "python",
   "name": "python3"
  },
  "language_info": {
   "codemirror_mode": {
    "name": "ipython",
    "version": 3
   },
   "file_extension": ".py",
   "mimetype": "text/x-python",
   "name": "python",
   "nbconvert_exporter": "python",
   "pygments_lexer": "ipython3",
   "version": "3.10.12"
  }
 },
 "nbformat": 4,
 "nbformat_minor": 4
}
